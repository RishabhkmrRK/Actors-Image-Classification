{
 "cells": [
  {
   "cell_type": "code",
   "execution_count": 3,
   "id": "dc29623c",
   "metadata": {},
   "outputs": [],
   "source": [
    "import cv2\n",
    "\n",
    "face_cascade = cv2.CascadeClassifier('./opencv/haarcascades/haarcascade_frontalface_default.xml')\n",
    "eye_cascade = cv2.CascadeClassifier('./opencv/haarcascades/haarcascade_eye.xml')\n",
    "\n",
    "def get_cropped_image_if_2_eyes(image_path):\n",
    "    img = cv2.imread(image_path)\n",
    "    if(img is not None):\n",
    "        gray = cv2.cvtColor(img, cv2.COLOR_BGR2GRAY)\n",
    "        faces = face_cascade.detectMultiScale(gray, 1.3, 5)\n",
    "        for (x,y,w,h) in faces:\n",
    "            roi_gray = gray[y:y+h, x:x+w]\n",
    "            roi_color = img[y:y+h, x:x+w]\n",
    "            eyes = eye_cascade.detectMultiScale(roi_gray)\n",
    "            if len(eyes) >= 2:\n",
    "                return roi_color"
   ]
  },
  {
   "cell_type": "code",
   "execution_count": 4,
   "id": "5e44859c",
   "metadata": {},
   "outputs": [],
   "source": [
    "import os"
   ]
  },
  {
   "cell_type": "code",
   "execution_count": 5,
   "id": "e59b6056",
   "metadata": {},
   "outputs": [
    {
     "data": {
      "text/plain": [
       "'E:\\\\ML\\\\Projects\\\\actor_classification'"
      ]
     },
     "execution_count": 5,
     "metadata": {},
     "output_type": "execute_result"
    }
   ],
   "source": [
    "os.getcwd()"
   ]
  },
  {
   "cell_type": "code",
   "execution_count": 6,
   "id": "c4a1f4c2",
   "metadata": {},
   "outputs": [],
   "source": [
    "path_to_data = \"./dataset/images\"\n",
    "path_to_cr_data = \"./dataset/cropped_images/\""
   ]
  },
  {
   "cell_type": "code",
   "execution_count": 7,
   "id": "d8349fcb",
   "metadata": {},
   "outputs": [],
   "source": [
    "import os\n",
    "img_dirs = []\n",
    "for entry in os.scandir(path_to_data):\n",
    "    if entry.is_dir():\n",
    "        img_dirs.append(entry.path)"
   ]
  },
  {
   "cell_type": "code",
   "execution_count": 8,
   "id": "f68cb338",
   "metadata": {},
   "outputs": [
    {
     "data": {
      "text/plain": [
       "['./dataset/images\\\\howard big bang theory - Google Search',\n",
       " './dataset/images\\\\leonard big bang theory - Google Search',\n",
       " './dataset/images\\\\raj big bang theory - Google Search',\n",
       " './dataset/images\\\\sheldon big bang theory - Google Search']"
      ]
     },
     "execution_count": 8,
     "metadata": {},
     "output_type": "execute_result"
    }
   ],
   "source": [
    "img_dirs"
   ]
  },
  {
   "cell_type": "code",
   "execution_count": 9,
   "id": "26fc461c",
   "metadata": {},
   "outputs": [],
   "source": [
    "import shutil\n",
    "if os.path.exists(path_to_cr_data):\n",
    "     shutil.rmtree(path_to_cr_data)\n",
    "os.mkdir(path_to_cr_data)"
   ]
  },
  {
   "cell_type": "code",
   "execution_count": 10,
   "id": "f2705bd5",
   "metadata": {
    "scrolled": true
   },
   "outputs": [
    {
     "name": "stdout",
     "output_type": "stream",
     "text": [
      "howard\n",
      "Generating cropped images in folder:  ./dataset/cropped_images/howard\n",
      "leonard\n",
      "Generating cropped images in folder:  ./dataset/cropped_images/leonard\n",
      "raj\n",
      "Generating cropped images in folder:  ./dataset/cropped_images/raj\n",
      "sheldon\n",
      "Generating cropped images in folder:  ./dataset/cropped_images/sheldon\n"
     ]
    }
   ],
   "source": [
    "cropped_image_dirs = []\n",
    "celebrity_file_names_dict = {}\n",
    "\n",
    "for img_dir in img_dirs:\n",
    "    count = 1\n",
    "    celebrity_name = img_dir.split('\\\\')[1]\n",
    "    celebrity_name = celebrity_name.split(' ')[0]\n",
    "    print(celebrity_name)\n",
    "    \n",
    "    celebrity_file_names_dict[celebrity_name] = []\n",
    "    \n",
    "    for entry in os.scandir(img_dir):\n",
    "        #print(entry.path)\n",
    "        if entry.path.lower().endswith(('.png', '.jpg', '.jpeg')):\n",
    "            roi_color = get_cropped_image_if_2_eyes(entry.path)\n",
    "            if roi_color is not None:\n",
    "                cropped_folder = path_to_cr_data + celebrity_name\n",
    "                if not os.path.exists(cropped_folder):\n",
    "                    os.makedirs(cropped_folder)\n",
    "                    cropped_image_dirs.append(cropped_folder)\n",
    "                    print(\"Generating cropped images in folder: \",cropped_folder)\n",
    "\n",
    "                cropped_file_name = celebrity_name + str(count) + \".png\"\n",
    "                cropped_file_path = cropped_folder + \"/\" + cropped_file_name \n",
    "\n",
    "                cv2.imwrite(cropped_file_path, roi_color)\n",
    "                celebrity_file_names_dict[celebrity_name].append(cropped_file_path)\n",
    "                count += 1    "
   ]
  },
  {
   "cell_type": "code",
   "execution_count": null,
   "id": "830937e0",
   "metadata": {},
   "outputs": [],
   "source": []
  }
 ],
 "metadata": {
  "kernelspec": {
   "display_name": "02jul22_1",
   "language": "python",
   "name": "02jul22_1"
  },
  "language_info": {
   "codemirror_mode": {
    "name": "ipython",
    "version": 3
   },
   "file_extension": ".py",
   "mimetype": "text/x-python",
   "name": "python",
   "nbconvert_exporter": "python",
   "pygments_lexer": "ipython3",
   "version": "3.10.4"
  }
 },
 "nbformat": 4,
 "nbformat_minor": 5
}
